{
 "cells": [
  {
   "cell_type": "markdown",
   "id": "bfc1443c",
   "metadata": {},
   "source": [
    "## Код для объединения нескольких обработанных документов\n",
    "## Code for combining several processed documents\n",
    "Дата создания: 10.05.2022\n",
    "<br>\n",
    "Date of creation: 10.05.2022\n",
    "\n",
    "Автор: Шилова надежда\n",
    "<br>\n",
    "Author: Nadejda Shilova"
   ]
  },
  {
   "cell_type": "code",
   "execution_count": 1,
   "id": "d2b11098",
   "metadata": {},
   "outputs": [],
   "source": [
    "# Необходимые библиотеки\n",
    "# Required libraries\n",
    "import pandas as pd"
   ]
  },
  {
   "cell_type": "code",
   "execution_count": 2,
   "id": "372d49bb",
   "metadata": {},
   "outputs": [],
   "source": [
    "processed_df = pd.DataFrame()"
   ]
  },
  {
   "cell_type": "code",
   "execution_count": 3,
   "id": "c6aa7a58",
   "metadata": {},
   "outputs": [],
   "source": [
    "number_file_start = 500  # Номер первого документа Number of the first document\n",
    "number_file_end = 515  # Номер последнего документа Last document number"
   ]
  },
  {
   "cell_type": "code",
   "execution_count": 4,
   "id": "642b27d7",
   "metadata": {},
   "outputs": [],
   "source": [
    "while number_file_start <= number_file_end:\n",
    "    file_name = str(number_file_start) + '.xlsx'\n",
    "    processed_df = pd.concat(\n",
    "        [processed_df, pd.read_excel(io=file_name, engine='openpyxl', header=None)],\n",
    "        ignore_index=True\n",
    "    )\n",
    "    number_file_start += 1"
   ]
  },
  {
   "cell_type": "code",
   "execution_count": 5,
   "id": "90e27218",
   "metadata": {},
   "outputs": [],
   "source": [
    "processed_df.to_csv('processed_documents_manual.csv')"
   ]
  }
 ],
 "metadata": {
  "kernelspec": {
   "display_name": "Python 3 (ipykernel)",
   "language": "python",
   "name": "python3"
  },
  "language_info": {
   "codemirror_mode": {
    "name": "ipython",
    "version": 3
   },
   "file_extension": ".py",
   "mimetype": "text/x-python",
   "name": "python",
   "nbconvert_exporter": "python",
   "pygments_lexer": "ipython3",
   "version": "3.9.10"
  }
 },
 "nbformat": 4,
 "nbformat_minor": 5
}
