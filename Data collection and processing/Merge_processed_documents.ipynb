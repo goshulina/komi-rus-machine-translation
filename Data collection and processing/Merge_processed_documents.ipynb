{
 "cells": [
  {
   "cell_type": "markdown",
   "id": "bfc1443c",
   "metadata": {},
   "source": [
    "## Код для объединения нескольких обработанных документов // Code for combining several processed documents\n",
    "Дата создания: 10.05.2022 // Date of creation: 10.05.2022\n",
    "\n",
    "Автор: Шилова надежда // Author: Nadejda Shilova"
   ]
  },
  {
   "cell_type": "code",
   "execution_count": 1,
   "id": "d2b11098",
   "metadata": {},
   "outputs": [],
   "source": [
    "#Необходимые библиотеки // Required libraries\n",
    "import pandas as pd"
   ]
  },
  {
   "cell_type": "code",
   "execution_count": 6,
   "id": "372d49bb",
   "metadata": {},
   "outputs": [],
   "source": [
    "processed_df = pd.DataFrame()"
   ]
  },
  {
   "cell_type": "code",
   "execution_count": 8,
   "id": "c6aa7a58",
   "metadata": {},
   "outputs": [],
   "source": [
    "number_file_start = 1 #Номер первого документа // Number of the first document\n",
    "number_file_end = 109 #Номер последнего документа // Last document number"
   ]
  },
  {
   "cell_type": "code",
   "execution_count": 9,
   "id": "642b27d7",
   "metadata": {},
   "outputs": [],
   "source": [
    "while number_file_start <= number_file_end:\n",
    "    file_name = str(number_file_start) + '.xlsx'\n",
    "    processed_df = pd.concat([processed_df, pd.read_excel(io=file_name, engine='openpyxl', header=None)], ignore_index=True)\n",
    "    number_file_start += 1"
   ]
  },
  {
   "cell_type": "code",
   "execution_count": 11,
   "id": "90e27218",
   "metadata": {},
   "outputs": [],
   "source": [
    "processed_df.to_csv('processed_documents_manual.csv')"
   ]
  }
 ],
 "metadata": {
  "kernelspec": {
   "display_name": "Python 3 (ipykernel)",
   "language": "python",
   "name": "python3"
  },
  "language_info": {
   "codemirror_mode": {
    "name": "ipython",
    "version": 3
   },
   "file_extension": ".py",
   "mimetype": "text/x-python",
   "name": "python",
   "nbconvert_exporter": "python",
   "pygments_lexer": "ipython3",
   "version": "3.9.10"
  }
 },
 "nbformat": 4,
 "nbformat_minor": 5
}
