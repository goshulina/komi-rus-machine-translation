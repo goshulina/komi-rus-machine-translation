{
 "cells": [
  {
   "cell_type": "markdown",
   "id": "2b1dec93",
   "metadata": {},
   "source": [
    "## Код предназначен для облегчения ручной проверки документов\n",
    "## The code is designed to facilitate manual document verification\n",
    "<br>\n",
    "Дата создания: 01.11.2022\n",
    "<br>\n",
    "Date of creation: 01.11.2022\n",
    "\n",
    "Автор: Шилова надежда\n",
    "<br>\n",
    "Author: Nadejda Shilova"
   ]
  },
  {
   "cell_type": "code",
   "execution_count": null,
   "id": "d1484b3f",
   "metadata": {},
   "outputs": [],
   "source": [
    "# Необходимые библиотеки\n",
    "# Required libraries\n",
    "import pandas as pd"
   ]
  },
  {
   "cell_type": "code",
   "execution_count": null,
   "id": "b259cefc",
   "metadata": {},
   "outputs": [],
   "source": [
    "# Настройка отображения\n",
    "# Display Settings\n",
    "pd.set_option('display.max_rows', None)\n",
    "pd.set_option('display.max_colwidth', None)"
   ]
  },
  {
   "cell_type": "code",
   "execution_count": null,
   "id": "fd72d8f8",
   "metadata": {},
   "outputs": [],
   "source": [
    "# Различие в длине строк между языками\n",
    "# The difference in the length of strings between languages\n",
    "difference_len = 17"
   ]
  },
  {
   "cell_type": "code",
   "execution_count": null,
   "id": "664d0b7b",
   "metadata": {},
   "outputs": [],
   "source": [
    "# Загрузка общего файла\n",
    "# Uploading the general file\n",
    "file = 'parsing_administration.xlsx'\n",
    "xl = pd.ExcelFile(file)\n",
    "df_check= xl.parse('Коми-рус')\n",
    "xl.close()"
   ]
  },
  {
   "cell_type": "code",
   "execution_count": null,
   "id": "8568cd4e",
   "metadata": {},
   "outputs": [],
   "source": [
    "# Какие строки надо пропустить (на русском)\n",
    "# Which lines should be skipped (in Russian)\n",
    "do_not_process = []"
   ]
  },
  {
   "cell_type": "code",
   "execution_count": null,
   "id": "464b084b",
   "metadata": {},
   "outputs": [],
   "source": [
    "print('Предложения в теле новости, кроме заголовка, заканчивающиеся не на . ! ? ; :')\n",
    "df_check_text = df_check.loc[1:]\n",
    "display(\n",
    "    df_check_text.loc[\n",
    "        ~(df_check_text['Коми язык'].str[-1]).isin(['.', '!', '?', ';', ':'])\n",
    "        | ~(df_check_text['Русский язык'].str[-1]).isin(['.', '!', '?', ';', ':'])\n",
    "    ]\n",
    ")"
   ]
  },
  {
   "cell_type": "code",
   "execution_count": null,
   "id": "fe56a0db",
   "metadata": {},
   "outputs": [],
   "source": [
    "display(\n",
    "    df_check.loc[\n",
    "        (\n",
    "            abs(\n",
    "                df_check['Коми язык'].str.len() - df_check['Русский язык'].str.len()\n",
    "            )\n",
    "            >= difference_len\n",
    "        )\n",
    "        & (~df_check['Русский язык'].isin(do_not_process))\n",
    "    ]\n",
    ") "
   ]
  },
  {
   "cell_type": "code",
   "execution_count": null,
   "id": "28f3a15e",
   "metadata": {},
   "outputs": [],
   "source": [
    "# Загрузка файла выравнивания\n",
    "#\n",
    "file = 'output.xlsx'\n",
    "xl = pd.ExcelFile(file)\n",
    "df_check= xl.parse('Sheet')\n",
    "xl.close()"
   ]
  },
  {
   "cell_type": "code",
   "execution_count": null,
   "id": "995957b4",
   "metadata": {},
   "outputs": [],
   "source": [
    "# Какие строки надо пропустить (на русском)\n",
    "# Which lines should be skipped (in Russian)\n",
    "do_not_process = []"
   ]
  },
  {
   "cell_type": "code",
   "execution_count": null,
   "id": "c0649cf7",
   "metadata": {
    "scrolled": true
   },
   "outputs": [],
   "source": [
    "display(\n",
    "    df_check.loc[\n",
    "        (\n",
    "            abs(\n",
    "                df_check['komi'].str.len() - df_check['rus'].str.len()\n",
    "            )\n",
    "            >= difference_len\n",
    "        )\n",
    "        & (~df_check['rus'].isin(do_not_process))\n",
    "    ]\n",
    ") "
   ]
  },
  {
   "cell_type": "code",
   "execution_count": null,
   "id": "e3dad7fa",
   "metadata": {},
   "outputs": [],
   "source": [
    "number_file_start = 134  # Номер первого документа Number of the first document\n",
    "number_file_end = 139  # Номер последнего документа Last document number"
   ]
  },
  {
   "cell_type": "code",
   "execution_count": null,
   "id": "c14c1f03",
   "metadata": {
    "scrolled": false
   },
   "outputs": [],
   "source": [
    "# Отображение сразу нескольких документов для обработки\n",
    "# Displaying multiple documents for processing at once\n",
    "while number_file_start <= number_file_end:\n",
    "    file = str(number_file_end) + '.xlsx'\n",
    "    xl = pd.ExcelFile(file)\n",
    "    df_check= xl.parse('Коми-рус')\n",
    "    xl.close()\n",
    "    print(f'Номер файла {number_file_end}')\n",
    "    print('Предложения в теле новости, кроме заголовка, заканчивающиеся не на . ! ? ; :')\n",
    "    df_check_text = df_check.loc[1:]\n",
    "    display(\n",
    "        df_check_text.loc[\n",
    "            ~(df_check_text['Коми язык'].str[-1]).isin(['.', '!', '?', ';', ':'])\n",
    "            | ~(df_check_text['Русский язык'].str[-1]).isin(['.', '!', '?', ';', ':'])\n",
    "        ]\n",
    "    )\n",
    "    display(\n",
    "        df_check.loc[\n",
    "            abs(df_check['Коми язык'].str.len() - df_check['Русский язык'].str.len()) >= difference_len\n",
    "        ]\n",
    "    )\n",
    "    number_file_end -= 1"
   ]
  }
 ],
 "metadata": {
  "celltoolbar": "Raw Cell Format",
  "kernelspec": {
   "display_name": "Python 3.9.10 64-bit",
   "language": "python",
   "name": "python3"
  },
  "language_info": {
   "codemirror_mode": {
    "name": "ipython",
    "version": 3
   },
   "file_extension": ".py",
   "mimetype": "text/x-python",
   "name": "python",
   "nbconvert_exporter": "python",
   "pygments_lexer": "ipython3",
   "version": "3.9.10"
  },
  "vscode": {
   "interpreter": {
    "hash": "cf92aa13fedf815d5c8dd192b8d835913fde3e8bc926b2a0ad6cc74ef2ba3ca2"
   }
  }
 },
 "nbformat": 4,
 "nbformat_minor": 5
}
