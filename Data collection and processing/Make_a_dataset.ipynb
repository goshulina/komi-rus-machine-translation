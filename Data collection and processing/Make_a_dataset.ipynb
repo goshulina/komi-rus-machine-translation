{
 "cells": [
  {
   "cell_type": "markdown",
   "id": "075c3acd",
   "metadata": {},
   "source": [
    "## Создание общего датасета // Creating one dataset\n",
    "Дата создания: 14.05.2022 // Date of creation: 14.05.2022\n",
    "\n",
    "Автор: Шилова надежда // Author: Nadejda Shilova"
   ]
  },
  {
   "cell_type": "code",
   "execution_count": 2,
   "id": "4831a1de",
   "metadata": {},
   "outputs": [],
   "source": [
    "#Необходимые библиотеки // Required libraries\n",
    "import os\n",
    "import pandas as pd"
   ]
  },
  {
   "cell_type": "code",
   "execution_count": 79,
   "id": "10866d4e",
   "metadata": {},
   "outputs": [],
   "source": [
    "#Путь к папке с данными // The path to the data folder\n",
    "path =\"Collected files//\" \n",
    "#Датафрейм xlsx формата // xlsx format dataframe\n",
    "df_xlsx = pd.DataFrame()\n",
    "#Датафрейм csv формата // csv format dataframe\n",
    "df_csv = pd.DataFrame()\n",
    "#Загрузка данных // Loading data\n",
    "for root, dirs, files in os.walk(path): \n",
    "    for file in files: \n",
    "        if 'csv' in os.path.join(root,file):\n",
    "            df_csv = pd.concat([df_csv, pd.read_csv(os.path.join(root,file), header=None, names=[0, 1])], ignore_index=True)\n",
    "        elif 'xlsx' in os.path.join(root,file):\n",
    "            df_xlsx = pd.concat([df_xlsx, pd.read_excel(io=os.path.join(root,file), engine='openpyxl', header=None)], ignore_index=True)"
   ]
  },
  {
   "cell_type": "code",
   "execution_count": 91,
   "id": "4aaebe36",
   "metadata": {},
   "outputs": [],
   "source": [
    "#Удаление третьего столбца с английским языком // Deleting the third column with English\n",
    "df_xlsx = df_xlsx.iloc[:, [0, 1]]"
   ]
  },
  {
   "cell_type": "code",
   "execution_count": 92,
   "id": "186a073b",
   "metadata": {
    "scrolled": false
   },
   "outputs": [],
   "source": [
    "#Объединение форматов // Combining formats\n",
    "df_final = pd.concat([df_xlsx, df_csv], ignore_index=True)"
   ]
  },
  {
   "cell_type": "code",
   "execution_count": 93,
   "id": "42d531b9",
   "metadata": {},
   "outputs": [],
   "source": [
    "#Удаление пустых строк // Deleting empty lines\n",
    "df_final.dropna(axis=0,inplace=True) "
   ]
  },
  {
   "cell_type": "code",
   "execution_count": 95,
   "id": "fb7d3387",
   "metadata": {},
   "outputs": [],
   "source": [
    "#Удаление строк, которые были заголовками // Deleting lines that were headers\n",
    "df_final = df_final.loc[(df_final[0] != 'Коми язык') & (df_final[0] != 'Русский язык')]"
   ]
  },
  {
   "cell_type": "code",
   "execution_count": 97,
   "id": "6500663d",
   "metadata": {},
   "outputs": [],
   "source": [
    "#Удаление дубликатов // Deleting duplicates\n",
    "df_final = df_final.drop_duplicates().reset_index(drop=True)"
   ]
  },
  {
   "cell_type": "code",
   "execution_count": 99,
   "id": "d859b810",
   "metadata": {},
   "outputs": [],
   "source": [
    "#Присвоение названий столбцов // Assigning column names\n",
    "df_final.columns = ['Коми язык', 'Русский язык'] "
   ]
  },
  {
   "cell_type": "code",
   "execution_count": 101,
   "id": "540cfd35",
   "metadata": {},
   "outputs": [],
   "source": [
    "#Сохранение файла // Saving file\n",
    "df_final.to_csv('final_dataset.csv', index=False)"
   ]
  }
 ],
 "metadata": {
  "kernelspec": {
   "display_name": "Python 3 (ipykernel)",
   "language": "python",
   "name": "python3"
  },
  "language_info": {
   "codemirror_mode": {
    "name": "ipython",
    "version": 3
   },
   "file_extension": ".py",
   "mimetype": "text/x-python",
   "name": "python",
   "nbconvert_exporter": "python",
   "pygments_lexer": "ipython3",
   "version": "3.9.10"
  }
 },
 "nbformat": 4,
 "nbformat_minor": 5
}
