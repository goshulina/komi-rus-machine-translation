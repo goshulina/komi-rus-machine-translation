{
 "cells": [
  {
   "cell_type": "markdown",
   "id": "075c3acd",
   "metadata": {},
   "source": [
    "## Создание общего датасета // Creating one dataset\n",
    "Дата создания: 14.05.2022 // Date of creation: 14.05.2022\n",
    "\n",
    "Автор: Шилова надежда // Author: Nadejda Shilova"
   ]
  },
  {
   "cell_type": "code",
   "execution_count": 73,
   "id": "4831a1de",
   "metadata": {},
   "outputs": [],
   "source": [
    "#Необходимые библиотеки // Required libraries\n",
    "import os\n",
    "import pandas as pd"
   ]
  },
  {
   "cell_type": "code",
   "execution_count": 74,
   "id": "10866d4e",
   "metadata": {},
   "outputs": [],
   "source": [
    "#Путь к папке с данными // The path to the data folder\n",
    "path =\"Collected files//\" \n",
    "#Датафрейм xlsx формата // xlsx format dataframe\n",
    "df_xlsx = pd.DataFrame()\n",
    "#Датафрейм csv формата // csv format dataframe\n",
    "df_csv = pd.DataFrame()\n",
    "#Загрузка данных // Loading data\n",
    "for root, dirs, files in os.walk(path): \n",
    "    for file in files: \n",
    "        if 'csv' in os.path.join(root,file):\n",
    "            df_csv = pd.concat([df_csv, pd.read_csv(os.path.join(root,file), header=None, names=[0, 1])], ignore_index=True)\n",
    "        elif 'xlsx' in os.path.join(root,file):\n",
    "            df_xlsx = pd.concat([df_xlsx, pd.read_excel(io=os.path.join(root,file), engine='openpyxl', header=None)], ignore_index=True)"
   ]
  },
  {
   "cell_type": "code",
   "execution_count": 75,
   "id": "4aaebe36",
   "metadata": {},
   "outputs": [],
   "source": [
    "#Удаление третьего столбца с английским языком // Deleting the third column with English\n",
    "df_xlsx = df_xlsx.iloc[:, [0, 1]]"
   ]
  },
  {
   "cell_type": "code",
   "execution_count": 76,
   "id": "186a073b",
   "metadata": {
    "scrolled": false
   },
   "outputs": [],
   "source": [
    "#Объединение форматов // Combining formats\n",
    "df_final = pd.concat([df_xlsx, df_csv], ignore_index=True)"
   ]
  },
  {
   "cell_type": "code",
   "execution_count": 77,
   "id": "42d531b9",
   "metadata": {},
   "outputs": [],
   "source": [
    "#Удаление пустых строк // Deleting empty lines\n",
    "df_final.dropna(axis=0,inplace=True) "
   ]
  },
  {
   "cell_type": "code",
   "execution_count": 78,
   "id": "fb7d3387",
   "metadata": {},
   "outputs": [],
   "source": [
    "#Удаление строк, которые были заголовками // Deleting lines that were headers\n",
    "df_final = df_final.loc[(df_final[0] != 'Коми язык') & (df_final[0] != 'Русский язык')]"
   ]
  },
  {
   "cell_type": "code",
   "execution_count": 79,
   "id": "6500663d",
   "metadata": {},
   "outputs": [],
   "source": [
    "#Удаление дубликатов // Deleting duplicates\n",
    "df_final = df_final.drop_duplicates().reset_index(drop=True)"
   ]
  },
  {
   "cell_type": "code",
   "execution_count": 80,
   "id": "d859b810",
   "metadata": {},
   "outputs": [],
   "source": [
    "#Присвоение названий столбцов // Assigning column names\n",
    "df_final.columns = ['Коми язык', 'Русский язык'] "
   ]
  },
  {
   "cell_type": "code",
   "execution_count": 81,
   "id": "95eb1bf5",
   "metadata": {},
   "outputs": [],
   "source": [
    "df_final = df_final.loc[df_final['Русский язык'] != '-']"
   ]
  },
  {
   "cell_type": "code",
   "execution_count": 82,
   "id": "20c56969",
   "metadata": {},
   "outputs": [
    {
     "data": {
      "text/plain": [
       "63320"
      ]
     },
     "execution_count": 82,
     "metadata": {},
     "output_type": "execute_result"
    }
   ],
   "source": [
    "#Уникальные слова Коми // Unique words of Komi\n",
    "len(df_final[\"Коми язык\"].str.lower().str.split(\" \").apply(pd.Series).stack().unique())"
   ]
  },
  {
   "cell_type": "code",
   "execution_count": 83,
   "id": "af9be403",
   "metadata": {},
   "outputs": [
    {
     "data": {
      "text/plain": [
       "62018"
      ]
     },
     "execution_count": 83,
     "metadata": {},
     "output_type": "execute_result"
    }
   ],
   "source": [
    "#Уникальные слова русский // Unique words of Russian\n",
    "len(df_final[\"Русский язык\"].str.lower().str.split(\" \").apply(pd.Series).stack().unique())"
   ]
  },
  {
   "cell_type": "code",
   "execution_count": 84,
   "id": "540cfd35",
   "metadata": {},
   "outputs": [],
   "source": [
    "#Сохранение файла // Saving file\n",
    "df_final.to_csv('final_dataset.csv', index=False)"
   ]
  },
  {
   "cell_type": "code",
   "execution_count": 85,
   "id": "d4ab756d",
   "metadata": {},
   "outputs": [
    {
     "data": {
      "text/html": [
       "<div>\n",
       "<style scoped>\n",
       "    .dataframe tbody tr th:only-of-type {\n",
       "        vertical-align: middle;\n",
       "    }\n",
       "\n",
       "    .dataframe tbody tr th {\n",
       "        vertical-align: top;\n",
       "    }\n",
       "\n",
       "    .dataframe thead th {\n",
       "        text-align: right;\n",
       "    }\n",
       "</style>\n",
       "<table border=\"1\" class=\"dataframe\">\n",
       "  <thead>\n",
       "    <tr style=\"text-align: right;\">\n",
       "      <th></th>\n",
       "      <th>Коми язык</th>\n",
       "      <th>Русский язык</th>\n",
       "    </tr>\n",
       "  </thead>\n",
       "  <tbody>\n",
       "    <tr>\n",
       "      <th>0</th>\n",
       "      <td>Владимир Уйба выль коронавирус инфекция паська...</td>\n",
       "      <td>Владимир Уйба о решениях республиканского опер...</td>\n",
       "    </tr>\n",
       "    <tr>\n",
       "      <th>1</th>\n",
       "      <td>Коми Республикаын Роспотребнадзорлӧн веськӧдла...</td>\n",
       "      <td>Официальная информация Управления Роспотребнад...</td>\n",
       "    </tr>\n",
       "    <tr>\n",
       "      <th>2</th>\n",
       "      <td>Коми Республикаын Роспотребнадзорлӧн веськӧдла...</td>\n",
       "      <td>По официальной информации Управления Роспотреб...</td>\n",
       "    </tr>\n",
       "    <tr>\n",
       "      <th>3</th>\n",
       "      <td>ПЦР-тестъяс отсӧгӧн тӧдмалӧма, мый COVІD-19 ви...</td>\n",
       "      <td>Выявлено ПЦР-тестированием 89984 (+291) случая...</td>\n",
       "    </tr>\n",
       "    <tr>\n",
       "      <th>4</th>\n",
       "      <td>Медунаӧн висьмисны Сыктывкарын – 79, Ухтаын – ...</td>\n",
       "      <td>Наибольший прирост за сутки в Сыктывкаре – 79 ...</td>\n",
       "    </tr>\n",
       "    <tr>\n",
       "      <th>...</th>\n",
       "      <td>...</td>\n",
       "      <td>...</td>\n",
       "    </tr>\n",
       "    <tr>\n",
       "      <th>38378</th>\n",
       "      <td>Заводитам монтаж, да во помӧдз установка лоӧ д...</td>\n",
       "      <td>Начнем её монтаж, и к концу года установка уже...</td>\n",
       "    </tr>\n",
       "    <tr>\n",
       "      <th>38379</th>\n",
       "      <td>Республикаса Юралысь аттьӧаліс компанияӧн юрну...</td>\n",
       "      <td>Глава республики поблагодарил руководство комп...</td>\n",
       "    </tr>\n",
       "    <tr>\n",
       "      <th>38380</th>\n",
       "      <td>«Аттьӧала компанияӧс выль проектысь.</td>\n",
       "      <td>«Благодарю компанию за новый проект.</td>\n",
       "    </tr>\n",
       "    <tr>\n",
       "      <th>38381</th>\n",
       "      <td>Сійӧ сетас позянлун лӧсьӧдны выль уджалан мест...</td>\n",
       "      <td>Который позволит создать новые рабочие места, ...</td>\n",
       "    </tr>\n",
       "    <tr>\n",
       "      <th>38382</th>\n",
       "      <td>Тайӧ кыпӧдас Войвылын и олан тшупӧдсӧ, и сылыс...</td>\n",
       "      <td>Это, в свою очередь, повысит и качество жизни ...</td>\n",
       "    </tr>\n",
       "  </tbody>\n",
       "</table>\n",
       "<p>38383 rows × 2 columns</p>\n",
       "</div>"
      ],
      "text/plain": [
       "                                               Коми язык  \\\n",
       "0      Владимир Уйба выль коронавирус инфекция паська...   \n",
       "1      Коми Республикаын Роспотребнадзорлӧн веськӧдла...   \n",
       "2      Коми Республикаын Роспотребнадзорлӧн веськӧдла...   \n",
       "3      ПЦР-тестъяс отсӧгӧн тӧдмалӧма, мый COVІD-19 ви...   \n",
       "4      Медунаӧн висьмисны Сыктывкарын – 79, Ухтаын – ...   \n",
       "...                                                  ...   \n",
       "38378  Заводитам монтаж, да во помӧдз установка лоӧ д...   \n",
       "38379  Республикаса Юралысь аттьӧаліс компанияӧн юрну...   \n",
       "38380               «Аттьӧала компанияӧс выль проектысь.   \n",
       "38381  Сійӧ сетас позянлун лӧсьӧдны выль уджалан мест...   \n",
       "38382  Тайӧ кыпӧдас Войвылын и олан тшупӧдсӧ, и сылыс...   \n",
       "\n",
       "                                            Русский язык  \n",
       "0      Владимир Уйба о решениях республиканского опер...  \n",
       "1      Официальная информация Управления Роспотребнад...  \n",
       "2      По официальной информации Управления Роспотреб...  \n",
       "3      Выявлено ПЦР-тестированием 89984 (+291) случая...  \n",
       "4      Наибольший прирост за сутки в Сыктывкаре – 79 ...  \n",
       "...                                                  ...  \n",
       "38378  Начнем её монтаж, и к концу года установка уже...  \n",
       "38379  Глава республики поблагодарил руководство комп...  \n",
       "38380               «Благодарю компанию за новый проект.  \n",
       "38381  Который позволит создать новые рабочие места, ...  \n",
       "38382  Это, в свою очередь, повысит и качество жизни ...  \n",
       "\n",
       "[38383 rows x 2 columns]"
      ]
     },
     "execution_count": 85,
     "metadata": {},
     "output_type": "execute_result"
    }
   ],
   "source": [
    "pd.read_csv('final_dataset.csv')"
   ]
  },
  {
   "cell_type": "code",
   "execution_count": 86,
   "id": "f7ab83e1",
   "metadata": {},
   "outputs": [],
   "source": [
    "#Изначальный датафрейм // Initial dataframe\n",
    "df_final_load = pd.read_csv('final_dataset.csv')"
   ]
  },
  {
   "cell_type": "code",
   "execution_count": 87,
   "id": "92fbf8b7",
   "metadata": {},
   "outputs": [],
   "source": [
    "#Датафрейм обратный загруженному // The dataframe is the reverse of the uploaded one\n",
    "df_reverse_column = df_final_load[['Русский язык', 'Коми язык']]"
   ]
  },
  {
   "cell_type": "code",
   "execution_count": 88,
   "id": "dae76058",
   "metadata": {},
   "outputs": [],
   "source": [
    "#Изначальный датафрейм // Initial dataframe\n",
    "#Добавление новых индексов // Adding new indexes\n",
    "df_final_load[\"index\"] = [ind for ind in range(0, df_final_load.shape[0]*2, 2)]\n",
    "#Замена индексов // Replacing indexes\n",
    "df_final_load = df_final_load.set_index(\"index\")\n",
    "#Добавление префикса // Adding a prefix\n",
    "df_final_load[\"prefix\"] = \"translate komi to russian\"\n",
    "#Добавление бинарного номера // Adding a binary number\n",
    "df_final_load[\"index_bin\"] = 1\n",
    "#Переименование столбцов // Rename columns\n",
    "df_final_load.rename(columns={'Коми язык': 'input_text'}, inplace=True)\n",
    "df_final_load.rename(columns={'Русский язык': 'target_text'}, inplace=True)"
   ]
  },
  {
   "cell_type": "code",
   "execution_count": 89,
   "id": "5983734e",
   "metadata": {},
   "outputs": [],
   "source": [
    "#Датафрейм обратный загруженному // The dataframe is the reverse of the uploaded one\n",
    "#Добавление новых индексов // Adding new indexes\n",
    "df_reverse_column[\"index\"] = [ind for ind in range(1, df_reverse_column.shape[0]*2+1, 2)]\n",
    "#Замена индексов // Replacing indexes\n",
    "df_reverse_column = df_reverse_column.set_index(\"index\")\n",
    "#Добавление префикса // Adding a prefix\n",
    "df_reverse_column[\"prefix\"] = \"translate russian to komi\"\n",
    "#Добавление бинарного номера // Adding a binary number\n",
    "df_reverse_column[\"index_bin\"] = 0\n",
    "#Переименование столбцов // Rename columns\n",
    "df_reverse_column.rename(columns={'Русский язык': 'input_text'}, inplace=True)\n",
    "df_reverse_column.rename(columns={'Коми язык': 'target_text'}, inplace=True)"
   ]
  },
  {
   "cell_type": "code",
   "execution_count": 90,
   "id": "20f93b4f",
   "metadata": {},
   "outputs": [],
   "source": [
    "df_two_variants = df_final_load.combine_first(df_reverse_column)"
   ]
  },
  {
   "cell_type": "code",
   "execution_count": 91,
   "id": "56786035",
   "metadata": {
    "scrolled": true
   },
   "outputs": [],
   "source": [
    "#Сохранение файла // Saving file\n",
    "df_two_variants.to_csv('final_two_variants_dataset.csv', index=False)"
   ]
  },
  {
   "cell_type": "code",
   "execution_count": 92,
   "id": "4689b2c8",
   "metadata": {},
   "outputs": [
    {
     "data": {
      "text/html": [
       "<div>\n",
       "<style scoped>\n",
       "    .dataframe tbody tr th:only-of-type {\n",
       "        vertical-align: middle;\n",
       "    }\n",
       "\n",
       "    .dataframe tbody tr th {\n",
       "        vertical-align: top;\n",
       "    }\n",
       "\n",
       "    .dataframe thead th {\n",
       "        text-align: right;\n",
       "    }\n",
       "</style>\n",
       "<table border=\"1\" class=\"dataframe\">\n",
       "  <thead>\n",
       "    <tr style=\"text-align: right;\">\n",
       "      <th></th>\n",
       "      <th>input_text</th>\n",
       "      <th>target_text</th>\n",
       "      <th>prefix</th>\n",
       "      <th>index_bin</th>\n",
       "    </tr>\n",
       "    <tr>\n",
       "      <th>index</th>\n",
       "      <th></th>\n",
       "      <th></th>\n",
       "      <th></th>\n",
       "      <th></th>\n",
       "    </tr>\n",
       "  </thead>\n",
       "  <tbody>\n",
       "    <tr>\n",
       "      <th>0</th>\n",
       "      <td>Владимир Уйба выль коронавирус инфекция паська...</td>\n",
       "      <td>Владимир Уйба о решениях республиканского опер...</td>\n",
       "      <td>translate komi to russian</td>\n",
       "      <td>1</td>\n",
       "    </tr>\n",
       "    <tr>\n",
       "      <th>1</th>\n",
       "      <td>Владимир Уйба о решениях республиканского опер...</td>\n",
       "      <td>Владимир Уйба выль коронавирус инфекция паська...</td>\n",
       "      <td>translate russian to komi</td>\n",
       "      <td>0</td>\n",
       "    </tr>\n",
       "    <tr>\n",
       "      <th>2</th>\n",
       "      <td>Коми Республикаын Роспотребнадзорлӧн веськӧдла...</td>\n",
       "      <td>Официальная информация Управления Роспотребнад...</td>\n",
       "      <td>translate komi to russian</td>\n",
       "      <td>1</td>\n",
       "    </tr>\n",
       "    <tr>\n",
       "      <th>3</th>\n",
       "      <td>Официальная информация Управления Роспотребнад...</td>\n",
       "      <td>Коми Республикаын Роспотребнадзорлӧн веськӧдла...</td>\n",
       "      <td>translate russian to komi</td>\n",
       "      <td>0</td>\n",
       "    </tr>\n",
       "    <tr>\n",
       "      <th>4</th>\n",
       "      <td>Коми Республикаын Роспотребнадзорлӧн веськӧдла...</td>\n",
       "      <td>По официальной информации Управления Роспотреб...</td>\n",
       "      <td>translate komi to russian</td>\n",
       "      <td>1</td>\n",
       "    </tr>\n",
       "    <tr>\n",
       "      <th>...</th>\n",
       "      <td>...</td>\n",
       "      <td>...</td>\n",
       "      <td>...</td>\n",
       "      <td>...</td>\n",
       "    </tr>\n",
       "    <tr>\n",
       "      <th>76761</th>\n",
       "      <td>«Благодарю компанию за новый проект.</td>\n",
       "      <td>«Аттьӧала компанияӧс выль проектысь.</td>\n",
       "      <td>translate russian to komi</td>\n",
       "      <td>0</td>\n",
       "    </tr>\n",
       "    <tr>\n",
       "      <th>76762</th>\n",
       "      <td>Сійӧ сетас позянлун лӧсьӧдны выль уджалан мест...</td>\n",
       "      <td>Который позволит создать новые рабочие места, ...</td>\n",
       "      <td>translate komi to russian</td>\n",
       "      <td>1</td>\n",
       "    </tr>\n",
       "    <tr>\n",
       "      <th>76763</th>\n",
       "      <td>Который позволит создать новые рабочие места, ...</td>\n",
       "      <td>Сійӧ сетас позянлун лӧсьӧдны выль уджалан мест...</td>\n",
       "      <td>translate russian to komi</td>\n",
       "      <td>0</td>\n",
       "    </tr>\n",
       "    <tr>\n",
       "      <th>76764</th>\n",
       "      <td>Тайӧ кыпӧдас Войвылын и олан тшупӧдсӧ, и сылыс...</td>\n",
       "      <td>Это, в свою очередь, повысит и качество жизни ...</td>\n",
       "      <td>translate komi to russian</td>\n",
       "      <td>1</td>\n",
       "    </tr>\n",
       "    <tr>\n",
       "      <th>76765</th>\n",
       "      <td>Это, в свою очередь, повысит и качество жизни ...</td>\n",
       "      <td>Тайӧ кыпӧдас Войвылын и олан тшупӧдсӧ, и сылыс...</td>\n",
       "      <td>translate russian to komi</td>\n",
       "      <td>0</td>\n",
       "    </tr>\n",
       "  </tbody>\n",
       "</table>\n",
       "<p>76766 rows × 4 columns</p>\n",
       "</div>"
      ],
      "text/plain": [
       "                                              input_text  \\\n",
       "index                                                      \n",
       "0      Владимир Уйба выль коронавирус инфекция паська...   \n",
       "1      Владимир Уйба о решениях республиканского опер...   \n",
       "2      Коми Республикаын Роспотребнадзорлӧн веськӧдла...   \n",
       "3      Официальная информация Управления Роспотребнад...   \n",
       "4      Коми Республикаын Роспотребнадзорлӧн веськӧдла...   \n",
       "...                                                  ...   \n",
       "76761               «Благодарю компанию за новый проект.   \n",
       "76762  Сійӧ сетас позянлун лӧсьӧдны выль уджалан мест...   \n",
       "76763  Который позволит создать новые рабочие места, ...   \n",
       "76764  Тайӧ кыпӧдас Войвылын и олан тшупӧдсӧ, и сылыс...   \n",
       "76765  Это, в свою очередь, повысит и качество жизни ...   \n",
       "\n",
       "                                             target_text  \\\n",
       "index                                                      \n",
       "0      Владимир Уйба о решениях республиканского опер...   \n",
       "1      Владимир Уйба выль коронавирус инфекция паська...   \n",
       "2      Официальная информация Управления Роспотребнад...   \n",
       "3      Коми Республикаын Роспотребнадзорлӧн веськӧдла...   \n",
       "4      По официальной информации Управления Роспотреб...   \n",
       "...                                                  ...   \n",
       "76761               «Аттьӧала компанияӧс выль проектысь.   \n",
       "76762  Который позволит создать новые рабочие места, ...   \n",
       "76763  Сійӧ сетас позянлун лӧсьӧдны выль уджалан мест...   \n",
       "76764  Это, в свою очередь, повысит и качество жизни ...   \n",
       "76765  Тайӧ кыпӧдас Войвылын и олан тшупӧдсӧ, и сылыс...   \n",
       "\n",
       "                          prefix  index_bin  \n",
       "index                                        \n",
       "0      translate komi to russian          1  \n",
       "1      translate russian to komi          0  \n",
       "2      translate komi to russian          1  \n",
       "3      translate russian to komi          0  \n",
       "4      translate komi to russian          1  \n",
       "...                          ...        ...  \n",
       "76761  translate russian to komi          0  \n",
       "76762  translate komi to russian          1  \n",
       "76763  translate russian to komi          0  \n",
       "76764  translate komi to russian          1  \n",
       "76765  translate russian to komi          0  \n",
       "\n",
       "[76766 rows x 4 columns]"
      ]
     },
     "execution_count": 92,
     "metadata": {},
     "output_type": "execute_result"
    }
   ],
   "source": [
    "df_two_variants"
   ]
  },
  {
   "cell_type": "code",
   "execution_count": null,
   "id": "f0f9b633",
   "metadata": {},
   "outputs": [],
   "source": []
  }
 ],
 "metadata": {
  "kernelspec": {
   "display_name": "Python 3 (ipykernel)",
   "language": "python",
   "name": "python3"
  },
  "language_info": {
   "codemirror_mode": {
    "name": "ipython",
    "version": 3
   },
   "file_extension": ".py",
   "mimetype": "text/x-python",
   "name": "python",
   "nbconvert_exporter": "python",
   "pygments_lexer": "ipython3",
   "version": "3.9.10"
  }
 },
 "nbformat": 4,
 "nbformat_minor": 5
}
