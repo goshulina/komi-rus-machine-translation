{
 "cells": [
  {
   "cell_type": "markdown",
   "id": "075c3acd",
   "metadata": {},
   "source": [
    "## Создание общего датасета \n",
    "## Creating one dataset\n",
    "<br>\n",
    "Дата создания: 01.11.2022\n",
    "<br>\n",
    "Date of creation: 01.11.2022\n",
    "<br>\n",
    "Автор: Шилова надежда\n",
    "<br>\n",
    "Author: Nadejda Shilova"
   ]
  },
  {
   "cell_type": "code",
   "execution_count": 1,
   "id": "4831a1de",
   "metadata": {},
   "outputs": [],
   "source": [
    "# Необходимые библиотеки\n",
    "# Required libraries\n",
    "import os\n",
    "import pandas as pd"
   ]
  },
  {
   "cell_type": "code",
   "execution_count": 2,
   "id": "10866d4e",
   "metadata": {},
   "outputs": [],
   "source": [
    "# Путь к папке с данными\n",
    "# The path to the data folder\n",
    "path =\"Collected files//\" \n",
    "# Датафрейм xlsx формата \n",
    "# xlsx format dataframe\n",
    "df_xlsx = pd.DataFrame()\n",
    "# Датафрейм csv формата\n",
    "# csv format dataframe\n",
    "df_csv = pd.DataFrame()\n",
    "# Загрузка данных\n",
    "# Loading data\n",
    "for root, dirs, files in os.walk(path): \n",
    "    for file in files: \n",
    "        if 'csv' in os.path.join(root,file):\n",
    "            df_csv = pd.concat(\n",
    "                [df_csv, pd.read_csv(os.path.join(root,file), header=None, names=[0, 1])],\n",
    "                ignore_index=True\n",
    "            )\n",
    "        elif 'xlsx' in os.path.join(root,file):\n",
    "            df_xlsx = pd.concat(\n",
    "                [\n",
    "                    df_xlsx,\n",
    "                    pd.read_excel(io=os.path.join(root,file), engine='openpyxl', header=None)\n",
    "                ],\n",
    "                ignore_index=True\n",
    "            )"
   ]
  },
  {
   "cell_type": "code",
   "execution_count": 3,
   "id": "4aaebe36",
   "metadata": {},
   "outputs": [],
   "source": [
    "# Удаление третьего столбца с английским языком\n",
    "# Deleting the third column with English\n",
    "df_xlsx = df_xlsx.iloc[:, [0, 1]]"
   ]
  },
  {
   "cell_type": "code",
   "execution_count": 4,
   "id": "186a073b",
   "metadata": {
    "scrolled": false
   },
   "outputs": [],
   "source": [
    "# Объединение форматов\n",
    "# Combining formats\n",
    "df_final = pd.concat([df_xlsx, df_csv], ignore_index=True)"
   ]
  },
  {
   "cell_type": "code",
   "execution_count": 5,
   "id": "42d531b9",
   "metadata": {},
   "outputs": [],
   "source": [
    "# Удаление пустых строк\n",
    "# Deleting empty lines\n",
    "df_final.dropna(axis=0,inplace=True) "
   ]
  },
  {
   "cell_type": "code",
   "execution_count": 6,
   "id": "fb7d3387",
   "metadata": {},
   "outputs": [],
   "source": [
    "# Удаление строк, которые были заголовками\n",
    "# Deleting lines that were headers\n",
    "df_final = df_final.loc[\n",
    "    (df_final[0] != 'Коми язык') & (df_final[0] != 'Русский язык')\n",
    "]"
   ]
  },
  {
   "cell_type": "code",
   "execution_count": 7,
   "id": "6500663d",
   "metadata": {},
   "outputs": [],
   "source": [
    "# Удаление дубликатов\n",
    "# Deleting duplicates\n",
    "df_final = df_final.drop_duplicates().reset_index(drop=True)"
   ]
  },
  {
   "cell_type": "code",
   "execution_count": 8,
   "id": "d859b810",
   "metadata": {},
   "outputs": [],
   "source": [
    "# Присвоение названий столбцов\n",
    "# Assigning column names\n",
    "df_final.columns = ['Коми язык', 'Русский язык'] "
   ]
  },
  {
   "cell_type": "code",
   "execution_count": 9,
   "id": "95eb1bf5",
   "metadata": {},
   "outputs": [],
   "source": [
    "df_final = df_final.loc[df_final['Русский язык'] != '-']"
   ]
  },
  {
   "cell_type": "code",
   "execution_count": 10,
   "id": "20c56969",
   "metadata": {},
   "outputs": [
    {
     "data": {
      "text/plain": [
       "78771"
      ]
     },
     "execution_count": 10,
     "metadata": {},
     "output_type": "execute_result"
    }
   ],
   "source": [
    "# Уникальные слова Коми\n",
    "# Unique words of Komi\n",
    "len(\n",
    "    df_final[\"Коми язык\"].str.lower().str.split(\" \").apply(pd.Series).stack().unique()\n",
    ")"
   ]
  },
  {
   "cell_type": "code",
   "execution_count": 11,
   "id": "af9be403",
   "metadata": {},
   "outputs": [
    {
     "data": {
      "text/plain": [
       "79851"
      ]
     },
     "execution_count": 11,
     "metadata": {},
     "output_type": "execute_result"
    }
   ],
   "source": [
    "# Уникальные слова русский\n",
    "# Unique words of Russian\n",
    "len(\n",
    "    df_final[\"Русский язык\"].str.lower().str.split(\" \").apply(pd.Series).stack().unique()\n",
    ")"
   ]
  },
  {
   "cell_type": "code",
   "execution_count": 12,
   "id": "540cfd35",
   "metadata": {},
   "outputs": [],
   "source": [
    "# Сохранение файла\n",
    "# Saving file\n",
    "df_final.to_csv('final_dataset.csv', index=False)"
   ]
  },
  {
   "cell_type": "code",
   "execution_count": 13,
   "id": "d4ab756d",
   "metadata": {},
   "outputs": [
    {
     "data": {
      "text/html": [
       "<div>\n",
       "<style scoped>\n",
       "    .dataframe tbody tr th:only-of-type {\n",
       "        vertical-align: middle;\n",
       "    }\n",
       "\n",
       "    .dataframe tbody tr th {\n",
       "        vertical-align: top;\n",
       "    }\n",
       "\n",
       "    .dataframe thead th {\n",
       "        text-align: right;\n",
       "    }\n",
       "</style>\n",
       "<table border=\"1\" class=\"dataframe\">\n",
       "  <thead>\n",
       "    <tr style=\"text-align: right;\">\n",
       "      <th></th>\n",
       "      <th>Коми язык</th>\n",
       "      <th>Русский язык</th>\n",
       "    </tr>\n",
       "  </thead>\n",
       "  <tbody>\n",
       "    <tr>\n",
       "      <th>0</th>\n",
       "      <td>Владимир Уйба выль коронавирус инфекция паська...</td>\n",
       "      <td>Владимир Уйба о решениях республиканского опер...</td>\n",
       "    </tr>\n",
       "    <tr>\n",
       "      <th>1</th>\n",
       "      <td>Коми Республикаын Роспотребнадзорлӧн веськӧдла...</td>\n",
       "      <td>Официальная информация Управления Роспотребнад...</td>\n",
       "    </tr>\n",
       "    <tr>\n",
       "      <th>2</th>\n",
       "      <td>Коми Республикаын Роспотребнадзорлӧн веськӧдла...</td>\n",
       "      <td>По официальной информации Управления Роспотреб...</td>\n",
       "    </tr>\n",
       "    <tr>\n",
       "      <th>3</th>\n",
       "      <td>ПЦР-тестъяс отсӧгӧн тӧдмалӧма, мый COVІD-19 ви...</td>\n",
       "      <td>Выявлено ПЦР-тестированием 89984 (+291) случая...</td>\n",
       "    </tr>\n",
       "    <tr>\n",
       "      <th>4</th>\n",
       "      <td>Медунаӧн висьмисны Сыктывкарын – 79, Ухтаын – ...</td>\n",
       "      <td>Наибольший прирост за сутки в Сыктывкаре – 79 ...</td>\n",
       "    </tr>\n",
       "    <tr>\n",
       "      <th>...</th>\n",
       "      <td>...</td>\n",
       "      <td>...</td>\n",
       "    </tr>\n",
       "    <tr>\n",
       "      <th>50659</th>\n",
       "      <td>На серти лӧсьӧдӧны модельнӧй библиотекаяс, ӧні...</td>\n",
       "      <td>В рамках которых создаются модельные библиотек...</td>\n",
       "    </tr>\n",
       "    <tr>\n",
       "      <th>50660</th>\n",
       "      <td>Стрӧитӧны социокультурнӧй шӧринъяс, бурмӧдӧны ...</td>\n",
       "      <td>Строятся социокультурные центры, укрепляется м...</td>\n",
       "    </tr>\n",
       "    <tr>\n",
       "      <th>50661</th>\n",
       "      <td>Таво культура уджалысьяслӧн тӧдчана мог — бура...</td>\n",
       "      <td>В этом году на работниках культуры лежит особа...</td>\n",
       "    </tr>\n",
       "    <tr>\n",
       "      <th>50662</th>\n",
       "      <td>Тӧда, мый ті быть верманныд тайӧ сьӧкыд уджсӧ.</td>\n",
       "      <td>Уверен, что и с этой непростой задачей вы обяз...</td>\n",
       "    </tr>\n",
       "    <tr>\n",
       "      <th>50663</th>\n",
       "      <td>Став сьӧлӧмсянь сиа тіянлы выль вермӧмъяс, кре...</td>\n",
       "      <td>От всего сердца желаю вам новых творческих поб...</td>\n",
       "    </tr>\n",
       "  </tbody>\n",
       "</table>\n",
       "<p>50664 rows × 2 columns</p>\n",
       "</div>"
      ],
      "text/plain": [
       "                                               Коми язык  \\\n",
       "0      Владимир Уйба выль коронавирус инфекция паська...   \n",
       "1      Коми Республикаын Роспотребнадзорлӧн веськӧдла...   \n",
       "2      Коми Республикаын Роспотребнадзорлӧн веськӧдла...   \n",
       "3      ПЦР-тестъяс отсӧгӧн тӧдмалӧма, мый COVІD-19 ви...   \n",
       "4      Медунаӧн висьмисны Сыктывкарын – 79, Ухтаын – ...   \n",
       "...                                                  ...   \n",
       "50659  На серти лӧсьӧдӧны модельнӧй библиотекаяс, ӧні...   \n",
       "50660  Стрӧитӧны социокультурнӧй шӧринъяс, бурмӧдӧны ...   \n",
       "50661  Таво культура уджалысьяслӧн тӧдчана мог — бура...   \n",
       "50662     Тӧда, мый ті быть верманныд тайӧ сьӧкыд уджсӧ.   \n",
       "50663  Став сьӧлӧмсянь сиа тіянлы выль вермӧмъяс, кре...   \n",
       "\n",
       "                                            Русский язык  \n",
       "0      Владимир Уйба о решениях республиканского опер...  \n",
       "1      Официальная информация Управления Роспотребнад...  \n",
       "2      По официальной информации Управления Роспотреб...  \n",
       "3      Выявлено ПЦР-тестированием 89984 (+291) случая...  \n",
       "4      Наибольший прирост за сутки в Сыктывкаре – 79 ...  \n",
       "...                                                  ...  \n",
       "50659  В рамках которых создаются модельные библиотек...  \n",
       "50660  Строятся социокультурные центры, укрепляется м...  \n",
       "50661  В этом году на работниках культуры лежит особа...  \n",
       "50662  Уверен, что и с этой непростой задачей вы обяз...  \n",
       "50663  От всего сердца желаю вам новых творческих поб...  \n",
       "\n",
       "[50664 rows x 2 columns]"
      ]
     },
     "execution_count": 13,
     "metadata": {},
     "output_type": "execute_result"
    }
   ],
   "source": [
    "pd.read_csv('final_dataset.csv')"
   ]
  },
  {
   "cell_type": "code",
   "execution_count": 14,
   "id": "f7ab83e1",
   "metadata": {},
   "outputs": [],
   "source": [
    "# Изначальный датафрейм\n",
    "# Initial dataframe\n",
    "df_final_load = pd.read_csv('final_dataset.csv')"
   ]
  },
  {
   "cell_type": "code",
   "execution_count": 15,
   "id": "92fbf8b7",
   "metadata": {},
   "outputs": [],
   "source": [
    "# Датафрейм обратный загруженному\n",
    "# The dataframe is the reverse of the uploaded one\n",
    "df_reverse_column = df_final_load[['Русский язык', 'Коми язык']]"
   ]
  },
  {
   "cell_type": "code",
   "execution_count": 16,
   "id": "dae76058",
   "metadata": {},
   "outputs": [],
   "source": [
    "# Изначальный датафрейм\n",
    "# Initial dataframe\n",
    "# Добавление новых индексов\n",
    "# Adding new indexes\n",
    "df_final_load[\"index\"] = [ind for ind in range(0, df_final_load.shape[0]*2, 2)]\n",
    "# Замена индексов\n",
    "# Replacing indexes\n",
    "df_final_load = df_final_load.set_index(\"index\")\n",
    "# Добавление префикса\n",
    "# Adding a prefix\n",
    "df_final_load[\"prefix\"] = \"translate komi to russian\"\n",
    "# Добавление бинарного номера\n",
    "# Adding a binary number\n",
    "df_final_load[\"index_bin\"] = 1\n",
    "# Переименование столбцов\n",
    "# Rename columns\n",
    "df_final_load.rename(columns={'Коми язык': 'input_text'}, inplace=True)\n",
    "df_final_load.rename(columns={'Русский язык': 'target_text'}, inplace=True)"
   ]
  },
  {
   "cell_type": "code",
   "execution_count": 17,
   "id": "5983734e",
   "metadata": {},
   "outputs": [],
   "source": [
    "# Датафрейм обратный загруженному\n",
    "# The dataframe is the reverse of the uploaded one\n",
    "# Добавление новых индексов\n",
    "# Adding new indexes\n",
    "df_reverse_column[\"index\"] = [ind for ind in range(1, df_reverse_column.shape[0]*2+1, 2)]\n",
    "# Замена индексов\n",
    "# Replacing indexes\n",
    "df_reverse_column = df_reverse_column.set_index(\"index\")\n",
    "# Добавление префикса\n",
    "# Adding a prefix\n",
    "df_reverse_column[\"prefix\"] = \"translate russian to komi\"\n",
    "# Добавление бинарного номера\n",
    "# Adding a binary number\n",
    "df_reverse_column[\"index_bin\"] = 0\n",
    "# Переименование столбцов\n",
    "# Rename columns\n",
    "df_reverse_column.rename(columns={'Русский язык': 'input_text'}, inplace=True)\n",
    "df_reverse_column.rename(columns={'Коми язык': 'target_text'}, inplace=True)"
   ]
  },
  {
   "cell_type": "code",
   "execution_count": 18,
   "id": "20f93b4f",
   "metadata": {},
   "outputs": [],
   "source": [
    "df_two_variants = df_final_load.combine_first(df_reverse_column)"
   ]
  },
  {
   "cell_type": "code",
   "execution_count": 19,
   "id": "56786035",
   "metadata": {
    "scrolled": true
   },
   "outputs": [],
   "source": [
    "# Сохранение файла\n",
    "# Saving file\n",
    "df_two_variants.to_csv('final_two_variants_dataset.csv', index=False)"
   ]
  },
  {
   "cell_type": "code",
   "execution_count": 20,
   "id": "4689b2c8",
   "metadata": {},
   "outputs": [
    {
     "data": {
      "text/html": [
       "<div>\n",
       "<style scoped>\n",
       "    .dataframe tbody tr th:only-of-type {\n",
       "        vertical-align: middle;\n",
       "    }\n",
       "\n",
       "    .dataframe tbody tr th {\n",
       "        vertical-align: top;\n",
       "    }\n",
       "\n",
       "    .dataframe thead th {\n",
       "        text-align: right;\n",
       "    }\n",
       "</style>\n",
       "<table border=\"1\" class=\"dataframe\">\n",
       "  <thead>\n",
       "    <tr style=\"text-align: right;\">\n",
       "      <th></th>\n",
       "      <th>input_text</th>\n",
       "      <th>target_text</th>\n",
       "      <th>prefix</th>\n",
       "      <th>index_bin</th>\n",
       "    </tr>\n",
       "    <tr>\n",
       "      <th>index</th>\n",
       "      <th></th>\n",
       "      <th></th>\n",
       "      <th></th>\n",
       "      <th></th>\n",
       "    </tr>\n",
       "  </thead>\n",
       "  <tbody>\n",
       "    <tr>\n",
       "      <th>0</th>\n",
       "      <td>Владимир Уйба выль коронавирус инфекция паська...</td>\n",
       "      <td>Владимир Уйба о решениях республиканского опер...</td>\n",
       "      <td>translate komi to russian</td>\n",
       "      <td>1</td>\n",
       "    </tr>\n",
       "    <tr>\n",
       "      <th>1</th>\n",
       "      <td>Владимир Уйба о решениях республиканского опер...</td>\n",
       "      <td>Владимир Уйба выль коронавирус инфекция паська...</td>\n",
       "      <td>translate russian to komi</td>\n",
       "      <td>0</td>\n",
       "    </tr>\n",
       "    <tr>\n",
       "      <th>2</th>\n",
       "      <td>Коми Республикаын Роспотребнадзорлӧн веськӧдла...</td>\n",
       "      <td>Официальная информация Управления Роспотребнад...</td>\n",
       "      <td>translate komi to russian</td>\n",
       "      <td>1</td>\n",
       "    </tr>\n",
       "    <tr>\n",
       "      <th>3</th>\n",
       "      <td>Официальная информация Управления Роспотребнад...</td>\n",
       "      <td>Коми Республикаын Роспотребнадзорлӧн веськӧдла...</td>\n",
       "      <td>translate russian to komi</td>\n",
       "      <td>0</td>\n",
       "    </tr>\n",
       "    <tr>\n",
       "      <th>4</th>\n",
       "      <td>Коми Республикаын Роспотребнадзорлӧн веськӧдла...</td>\n",
       "      <td>По официальной информации Управления Роспотреб...</td>\n",
       "      <td>translate komi to russian</td>\n",
       "      <td>1</td>\n",
       "    </tr>\n",
       "    <tr>\n",
       "      <th>...</th>\n",
       "      <td>...</td>\n",
       "      <td>...</td>\n",
       "      <td>...</td>\n",
       "      <td>...</td>\n",
       "    </tr>\n",
       "    <tr>\n",
       "      <th>101323</th>\n",
       "      <td>В этом году на работниках культуры лежит особа...</td>\n",
       "      <td>Таво культура уджалысьяслӧн тӧдчана мог — бура...</td>\n",
       "      <td>translate russian to komi</td>\n",
       "      <td>0</td>\n",
       "    </tr>\n",
       "    <tr>\n",
       "      <th>101324</th>\n",
       "      <td>Тӧда, мый ті быть верманныд тайӧ сьӧкыд уджсӧ.</td>\n",
       "      <td>Уверен, что и с этой непростой задачей вы обяз...</td>\n",
       "      <td>translate komi to russian</td>\n",
       "      <td>1</td>\n",
       "    </tr>\n",
       "    <tr>\n",
       "      <th>101325</th>\n",
       "      <td>Уверен, что и с этой непростой задачей вы обяз...</td>\n",
       "      <td>Тӧда, мый ті быть верманныд тайӧ сьӧкыд уджсӧ.</td>\n",
       "      <td>translate russian to komi</td>\n",
       "      <td>0</td>\n",
       "    </tr>\n",
       "    <tr>\n",
       "      <th>101326</th>\n",
       "      <td>Став сьӧлӧмсянь сиа тіянлы выль вермӧмъяс, кре...</td>\n",
       "      <td>От всего сердца желаю вам новых творческих поб...</td>\n",
       "      <td>translate komi to russian</td>\n",
       "      <td>1</td>\n",
       "    </tr>\n",
       "    <tr>\n",
       "      <th>101327</th>\n",
       "      <td>От всего сердца желаю вам новых творческих поб...</td>\n",
       "      <td>Став сьӧлӧмсянь сиа тіянлы выль вермӧмъяс, кре...</td>\n",
       "      <td>translate russian to komi</td>\n",
       "      <td>0</td>\n",
       "    </tr>\n",
       "  </tbody>\n",
       "</table>\n",
       "<p>101328 rows × 4 columns</p>\n",
       "</div>"
      ],
      "text/plain": [
       "                                               input_text  \\\n",
       "index                                                       \n",
       "0       Владимир Уйба выль коронавирус инфекция паська...   \n",
       "1       Владимир Уйба о решениях республиканского опер...   \n",
       "2       Коми Республикаын Роспотребнадзорлӧн веськӧдла...   \n",
       "3       Официальная информация Управления Роспотребнад...   \n",
       "4       Коми Республикаын Роспотребнадзорлӧн веськӧдла...   \n",
       "...                                                   ...   \n",
       "101323  В этом году на работниках культуры лежит особа...   \n",
       "101324     Тӧда, мый ті быть верманныд тайӧ сьӧкыд уджсӧ.   \n",
       "101325  Уверен, что и с этой непростой задачей вы обяз...   \n",
       "101326  Став сьӧлӧмсянь сиа тіянлы выль вермӧмъяс, кре...   \n",
       "101327  От всего сердца желаю вам новых творческих поб...   \n",
       "\n",
       "                                              target_text  \\\n",
       "index                                                       \n",
       "0       Владимир Уйба о решениях республиканского опер...   \n",
       "1       Владимир Уйба выль коронавирус инфекция паська...   \n",
       "2       Официальная информация Управления Роспотребнад...   \n",
       "3       Коми Республикаын Роспотребнадзорлӧн веськӧдла...   \n",
       "4       По официальной информации Управления Роспотреб...   \n",
       "...                                                   ...   \n",
       "101323  Таво культура уджалысьяслӧн тӧдчана мог — бура...   \n",
       "101324  Уверен, что и с этой непростой задачей вы обяз...   \n",
       "101325     Тӧда, мый ті быть верманныд тайӧ сьӧкыд уджсӧ.   \n",
       "101326  От всего сердца желаю вам новых творческих поб...   \n",
       "101327  Став сьӧлӧмсянь сиа тіянлы выль вермӧмъяс, кре...   \n",
       "\n",
       "                           prefix  index_bin  \n",
       "index                                         \n",
       "0       translate komi to russian          1  \n",
       "1       translate russian to komi          0  \n",
       "2       translate komi to russian          1  \n",
       "3       translate russian to komi          0  \n",
       "4       translate komi to russian          1  \n",
       "...                           ...        ...  \n",
       "101323  translate russian to komi          0  \n",
       "101324  translate komi to russian          1  \n",
       "101325  translate russian to komi          0  \n",
       "101326  translate komi to russian          1  \n",
       "101327  translate russian to komi          0  \n",
       "\n",
       "[101328 rows x 4 columns]"
      ]
     },
     "execution_count": 20,
     "metadata": {},
     "output_type": "execute_result"
    }
   ],
   "source": [
    "df_two_variants"
   ]
  }
 ],
 "metadata": {
  "kernelspec": {
   "display_name": "Python 3 (ipykernel)",
   "language": "python",
   "name": "python3"
  },
  "language_info": {
   "codemirror_mode": {
    "name": "ipython",
    "version": 3
   },
   "file_extension": ".py",
   "mimetype": "text/x-python",
   "name": "python",
   "nbconvert_exporter": "python",
   "pygments_lexer": "ipython3",
   "version": "3.9.10"
  }
 },
 "nbformat": 4,
 "nbformat_minor": 5
}
